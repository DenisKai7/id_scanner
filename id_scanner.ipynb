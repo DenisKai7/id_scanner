{
  "nbformat": 4,
  "nbformat_minor": 0,
  "metadata": {
    "colab": {
      "provenance": [],
      "authorship_tag": "ABX9TyOwnZerXEppj0eV19KcHngt",
      "include_colab_link": true
    },
    "kernelspec": {
      "name": "python3",
      "display_name": "Python 3"
    },
    "language_info": {
      "name": "python"
    }
  },
  "cells": [
    {
      "cell_type": "markdown",
      "metadata": {
        "id": "view-in-github",
        "colab_type": "text"
      },
      "source": [
        "<a href=\"https://colab.research.google.com/github/DenisKai7/id_scanner/blob/model-train/id_scanner.ipynb\" target=\"_parent\"><img src=\"https://colab.research.google.com/assets/colab-badge.svg\" alt=\"Open In Colab\"/></a>"
      ]
    },
    {
      "cell_type": "code",
      "execution_count": 1,
      "metadata": {
        "colab": {
          "base_uri": "https://localhost:8080/"
        },
        "id": "2JidNG4iAPlx",
        "outputId": "06152a52-09ff-4090-f9ce-610863dec584"
      },
      "outputs": [
        {
          "output_type": "stream",
          "name": "stdout",
          "text": [
            "Mounted at /content/drive\n"
          ]
        }
      ],
      "source": [
        "from google.colab import drive\n",
        "drive.mount('/content/drive')"
      ]
    },
    {
      "cell_type": "code",
      "source": [
        "!sudo apt install tesseract-ocr\n",
        "!sudo apt install tesseract-ocr-ind"
      ],
      "metadata": {
        "colab": {
          "base_uri": "https://localhost:8080/"
        },
        "id": "5mW11XZ_DaTL",
        "outputId": "687ff135-66bf-4bd8-ce9e-a106b2417b6f"
      },
      "execution_count": 12,
      "outputs": [
        {
          "output_type": "stream",
          "name": "stdout",
          "text": [
            "Reading package lists... Done\n",
            "Building dependency tree... Done\n",
            "Reading state information... Done\n",
            "tesseract-ocr is already the newest version (4.1.1-2.1build1).\n",
            "0 upgraded, 0 newly installed, 0 to remove and 35 not upgraded.\n",
            "Reading package lists... Done\n",
            "Building dependency tree... Done\n",
            "Reading state information... Done\n",
            "The following NEW packages will be installed:\n",
            "  tesseract-ocr-ind\n",
            "0 upgraded, 1 newly installed, 0 to remove and 35 not upgraded.\n",
            "Need to get 537 kB of archives.\n",
            "After this operation, 1,138 kB of additional disk space will be used.\n",
            "Get:1 http://archive.ubuntu.com/ubuntu jammy/universe amd64 tesseract-ocr-ind all 1:4.00~git30-7274cfa-1.1 [537 kB]\n",
            "Fetched 537 kB in 0s (2,095 kB/s)\n",
            "debconf: unable to initialize frontend: Dialog\n",
            "debconf: (No usable dialog-like program is installed, so the dialog based frontend cannot be used. at /usr/share/perl5/Debconf/FrontEnd/Dialog.pm line 78, <> line 1.)\n",
            "debconf: falling back to frontend: Readline\n",
            "debconf: unable to initialize frontend: Readline\n",
            "debconf: (This frontend requires a controlling tty.)\n",
            "debconf: falling back to frontend: Teletype\n",
            "dpkg-preconfigure: unable to re-open stdin: \n",
            "Selecting previously unselected package tesseract-ocr-ind.\n",
            "(Reading database ... 126284 files and directories currently installed.)\n",
            "Preparing to unpack .../tesseract-ocr-ind_1%3a4.00~git30-7274cfa-1.1_all.deb ...\n",
            "Unpacking tesseract-ocr-ind (1:4.00~git30-7274cfa-1.1) ...\n",
            "Setting up tesseract-ocr-ind (1:4.00~git30-7274cfa-1.1) ...\n"
          ]
        }
      ]
    },
    {
      "cell_type": "code",
      "source": [
        "!pip install pytesseract"
      ],
      "metadata": {
        "colab": {
          "base_uri": "https://localhost:8080/"
        },
        "id": "YFjLY3QWDcj6",
        "outputId": "501658c2-fdae-4517-a532-ba4e11320737"
      },
      "execution_count": 3,
      "outputs": [
        {
          "output_type": "stream",
          "name": "stdout",
          "text": [
            "Collecting pytesseract\n",
            "  Downloading pytesseract-0.3.13-py3-none-any.whl.metadata (11 kB)\n",
            "Requirement already satisfied: packaging>=21.3 in /usr/local/lib/python3.11/dist-packages (from pytesseract) (25.0)\n",
            "Requirement already satisfied: Pillow>=8.0.0 in /usr/local/lib/python3.11/dist-packages (from pytesseract) (11.2.1)\n",
            "Downloading pytesseract-0.3.13-py3-none-any.whl (14 kB)\n",
            "Installing collected packages: pytesseract\n",
            "Successfully installed pytesseract-0.3.13\n"
          ]
        }
      ]
    },
    {
      "cell_type": "code",
      "source": [
        "!pip install opencv-python"
      ],
      "metadata": {
        "colab": {
          "base_uri": "https://localhost:8080/"
        },
        "id": "qixK_U-ODg67",
        "outputId": "51a2dc77-ebe3-4366-d351-4bb3bce90eca"
      },
      "execution_count": 4,
      "outputs": [
        {
          "output_type": "stream",
          "name": "stdout",
          "text": [
            "Requirement already satisfied: opencv-python in /usr/local/lib/python3.11/dist-packages (4.11.0.86)\n",
            "Requirement already satisfied: numpy>=1.21.2 in /usr/local/lib/python3.11/dist-packages (from opencv-python) (2.0.2)\n"
          ]
        }
      ]
    },
    {
      "cell_type": "code",
      "source": [
        "import cv2\n",
        "import pytesseract\n",
        "from PIL import Image\n",
        "import os\n",
        "import re\n",
        "import numpy as np"
      ],
      "metadata": {
        "id": "E8uAZAGvDler"
      },
      "execution_count": 5,
      "outputs": []
    },
    {
      "cell_type": "code",
      "source": [
        "os.environ['TESSDATA_PREFIX'] = '/usr/share/tesseract-ocr/4.00/tessdata'"
      ],
      "metadata": {
        "id": "_wYwLyovFNOA"
      },
      "execution_count": 13,
      "outputs": []
    },
    {
      "cell_type": "code",
      "source": [
        "print(\"\\nIsi folder tessdata:\")\n",
        "!ls /usr/share/tesseract-ocr/4.00/tessdata/"
      ],
      "metadata": {
        "colab": {
          "base_uri": "https://localhost:8080/"
        },
        "id": "ADBLYPaXFVKH",
        "outputId": "9b8bb36a-1bbe-46ff-9a30-f0c22d10d930"
      },
      "execution_count": 15,
      "outputs": [
        {
          "output_type": "stream",
          "name": "stdout",
          "text": [
            "\n",
            "Isi folder tessdata:\n",
            "configs\t\t ind.traineddata  pdf.ttf\n",
            "eng.traineddata  osd.traineddata  tessconfigs\n"
          ]
        }
      ]
    },
    {
      "cell_type": "code",
      "source": [
        "pytesseract.pytesseract.tesseract_cmd = r'/usr/bin/tesseract'"
      ],
      "metadata": {
        "id": "fB8mwUVXDnX8"
      },
      "execution_count": 14,
      "outputs": []
    },
    {
      "cell_type": "code",
      "source": [
        "base_drive_path = '/content/drive/MyDrive/ocr_ktp/train'"
      ],
      "metadata": {
        "id": "TLs9eQCWD6JP"
      },
      "execution_count": 7,
      "outputs": []
    },
    {
      "cell_type": "code",
      "source": [
        "def correct_rotation(image_path):\n",
        "    img = cv2.imread(image_path)\n",
        "    if img is None:\n",
        "        print(f\"Error: Tidak dapat membaca gambar dari {image_path}\")\n",
        "        return None\n",
        "\n",
        "    # ubah gambar ke grayscale\n",
        "    gray = cv2.cvtColor(img, cv2.COLOR_BGR2GRAY)\n",
        "\n",
        "    try:\n",
        "        osd = pytesseract.image_to_osd(gray)\n",
        "        rotation_angle = 0\n",
        "        for line in osd.split('\\n'):\n",
        "            if 'Rotate:' in line:\n",
        "                rotation_angle = int(line.split('Rotate: ')[1])\n",
        "                break\n",
        "\n",
        "        if rotation_angle == 0:\n",
        "            return img\n",
        "\n",
        "        (h, w) = img.shape[:2]\n",
        "        center = (w // 2, h // 2)\n",
        "        M = cv2.getRotationMatrix2D(center, -rotation_angle, 1.0)\n",
        "        rotated_img = cv2.warpAffine(img, M, (w, h), flags=cv2.INTER_CUBIC, borderMode=cv2.BORDER_REPLICATE)\n",
        "        return rotated_img\n",
        "    except pytesseract.TesseractError as e:\n",
        "        print(f\"Peringatan: Gagal mendeteksi orientasi dengan Tesseract OSD: {e}. Mencoba OCR langsung.\")\n",
        "\n",
        "        return img"
      ],
      "metadata": {
        "id": "12cb2NaIEDqe"
      },
      "execution_count": 8,
      "outputs": []
    },
    {
      "cell_type": "code",
      "source": [
        "def extract_ktp_data(image_path):\n",
        "    print(f\"\\nMemproses KTP: {image_path}\")\n",
        "    # Koreksi rotasi gambar terlebih dahulu\n",
        "    processed_img = correct_rotation(image_path)\n",
        "    if processed_img is None:\n",
        "        return None\n",
        "\n",
        "    pil_img = Image.fromarray(cv2.cvtColor(processed_img, cv2.COLOR_BGR2RGB))\n",
        "\n",
        "    text = pytesseract.image_to_string(pil_img, lang='ind', config='--psm 6 --oem 3')\n",
        "\n",
        "    data_ktp = {\n",
        "        \"NIK\": \"\",\n",
        "        \"Nama\": \"\",\n",
        "        \"Tempat/Tgl Lahir\": \"\",\n",
        "        \"Jenis Kelamin\": \"\",\n",
        "        \"Gol. Darah\": \"\",\n",
        "        \"Alamat\": {\n",
        "            \"Jalan\": \"\",\n",
        "            \"RT/RW\": \"\",\n",
        "            \"Kel/Desa\": \"\",\n",
        "            \"Kecamatan\": \"\",\n",
        "            \"Agama\": \"\",\n",
        "            \"Status Perkawinan\": \"\",\n",
        "            \"Pekerjaan\": \"\",\n",
        "            \"Kewarganegaraan\": \"\",\n",
        "            \"Berlaku Hingga\": \"\"\n",
        "        }\n",
        "    }\n",
        "\n",
        "    # Regex untuk ekstrak data\n",
        "    # NIK: Pola 16 digit angka\n",
        "    nik_match = re.search(r'\\b\\d{16}\\b', text)\n",
        "    if nik_match:\n",
        "        data_ktp[\"NIK\"] = nik_match.group(0)\n",
        "\n",
        "    # Nama: Cari setelah kata \"Nama\" atau \"Nama Lengkap\"\n",
        "    name_match = re.search(r'(?:Nama|Nama Lengkap)\\s*:\\s*(.+)', text, re.IGNORECASE)\n",
        "    if name_match:\n",
        "        data_ktp[\"Nama\"] = name_match.group(1).strip()\n",
        "    else:\n",
        "        name_match = re.search(r'Nama\\s*([A-Z\\s]+)', text)\n",
        "        if name_match:\n",
        "            data_ktp[\"Nama\"] = name_match.group(1).strip()\n",
        "\n",
        "\n",
        "    # Tempat/Tgl Lahir: Cari setelah \"Tempat/Tgl Lahir\" atau \"Tempat, Tgl Lahir\"\n",
        "    dob_match = re.search(r'(?:Tempat/Tgl Lahir|Tempat, Tgl Lahir)\\s*:\\s*([A-Za-z\\s]+),\\s*(\\d{2}-\\d{2}-\\d{4})', text, re.IGNORECASE)\n",
        "    if dob_match:\n",
        "        data_ktp[\"Tempat/Tgl Lahir\"] = f\"{dob_match.group(1).strip()}, {dob_match.group(2).strip()}\"\n",
        "\n",
        "    # Jenis Kelamin: Cari setelah \"Jenis Kelamin\"\n",
        "    gender_match = re.search(r'Jenis Kelamin\\s*:\\s*(LAKI-LAKI|PEREMPUAN)\\s*(?:Gol\\. Darah\\s*:\\s*([A|B|AB|O|\\-]+))?', text, re.IGNORECASE)\n",
        "    if gender_match:\n",
        "        data_ktp[\"Jenis Kelamin\"] = gender_match.group(1).strip()\n",
        "        if gender_match.group(2):\n",
        "            data_ktp[\"Gol. Darah\"] = gender_match.group(2).strip()\n",
        "\n",
        "    # Gol. Darah: Jika tidak terdeteksi bersama Jenis Kelamin\n",
        "    if not data_ktp[\"Gol. Darah\"]:\n",
        "        blood_match = re.search(r'Gol\\. Darah\\s*:\\s*([A|B|AB|O|\\-]+)', text, re.IGNORECASE)\n",
        "        if blood_match:\n",
        "            data_ktp[\"Gol. Darah\"] = blood_match.group(1).strip()\n",
        "\n",
        "    # Alamat\n",
        "    address_start_idx = text.lower().find(\"alamat\")\n",
        "    if address_start_idx != -1:\n",
        "        address_text = text[address_start_idx:]\n",
        "        # Jalan\n",
        "        jalan_match = re.search(r'Jalan\\s*:\\s*(.+)', address_text, re.IGNORECASE)\n",
        "        if jalan_match:\n",
        "            data_ktp[\"Alamat\"][\"Jalan\"] = jalan_match.group(1).strip()\n",
        "\n",
        "        # RT/RW\n",
        "        rtrw_match = re.search(r'RT/RW\\s*:\\s*(\\d{3}/\\d{3})', address_text, re.IGNORECASE)\n",
        "        if rtrw_match:\n",
        "            data_ktp[\"Alamat\"][\"RT/RW\"] = rtrw_match.group(1).strip()\n",
        "\n",
        "        # Kel/Desa\n",
        "        keldesa_match = re.search(r'(?:Kel/Desa|Kelurahan/Desa)\\s*:\\s*(.+)', address_text, re.IGNORECASE)\n",
        "        if keldesa_match:\n",
        "            data_ktp[\"Alamat\"][\"Kel/Desa\"] = keldesa_match.group(1).strip()\n",
        "\n",
        "        # Kecamatan\n",
        "        kec_match = re.search(r'Kecamatan\\s*:\\s*(.+)', address_text, re.IGNORECASE)\n",
        "        if kec_match:\n",
        "            data_ktp[\"Alamat\"][\"Kecamatan\"] = kec_match.group(1).strip()\n",
        "\n",
        "    # Agama\n",
        "    agama_match = re.search(r'Agama\\s*:\\s*(ISLAM|KRISTEN|KATOLIK|HINDU|BUDHA|KONGHUCU)', text, re.IGNORECASE)\n",
        "    if agama_match:\n",
        "        data_ktp[\"Alamat\"][\"Agama\"] = agama_match.group(1).strip()\n",
        "\n",
        "    # Status Perkawinan\n",
        "    status_match = re.search(r'Status Perkawinan\\s*:\\s*(BELUM KAWIN|KAWIN|CERAI HIDUP|CERAI MATI)', text, re.IGNORECASE)\n",
        "    if status_match:\n",
        "        data_ktp[\"Alamat\"][\"Status Perkawinan\"] = status_match.group(1).strip()\n",
        "\n",
        "    # Pekerjaan\n",
        "    pekerjaan_match = re.search(r'Pekerjaan\\s*:\\s*(.+)', text, re.IGNORECASE)\n",
        "    if pekerjaan_match:\n",
        "        data_ktp[\"Alamat\"][\"Pekerjaan\"] = pekerjaan_match.group(1).strip()\n",
        "\n",
        "    # Kewarganegaraan\n",
        "    warga_match = re.search(r'Kewarganegaraan\\s*:\\s*(WNI|WNA)', text, re.IGNORECASE)\n",
        "    if warga_match:\n",
        "        data_ktp[\"Alamat\"][\"Kewarganegaraan\"] = warga_match.group(1).strip()\n",
        "\n",
        "    # Berlaku Hingga\n",
        "    berlaku_match = re.search(r'Berlaku Hingga\\s*:\\s*(\\d{2}-\\d{2}-\\d{4}|SEUMUR HIDUP)', text, re.IGNORECASE)\n",
        "    if berlaku_match:\n",
        "        data_ktp[\"Alamat\"][\"Berlaku Hingga\"] = berlaku_match.group(1).strip()\n",
        "\n",
        "    return data_ktp"
      ],
      "metadata": {
        "id": "eZAOOGUYESFI"
      },
      "execution_count": 9,
      "outputs": []
    },
    {
      "cell_type": "code",
      "source": [
        "all_ktp_data = []\n",
        "\n",
        "for angle_folder in ['0', '90', '180', '270']:\n",
        "    folder_path = os.path.join(base_drive_path, angle_folder)\n",
        "    print(f\"Mengakses folder: {folder_path}\")\n",
        "\n",
        "    if not os.path.exists(folder_path):\n",
        "        print(f\"Peringatan: Folder '{folder_path}' tidak ditemukan. Pastikan path sudah benar.\")\n",
        "        continue\n",
        "\n",
        "    for filename in os.listdir(folder_path):\n",
        "        if filename.lower().endswith(('.png', '.jpg', '.jpeg')):\n",
        "            image_path = os.path.join(folder_path, filename)\n",
        "            extracted_data = extract_ktp_data(image_path)\n",
        "            if extracted_data:\n",
        "                all_ktp_data.append(extracted_data)\n"
      ],
      "metadata": {
        "colab": {
          "base_uri": "https://localhost:8080/"
        },
        "id": "BwAgdEbqEkYS",
        "outputId": "c9e0f1b4-8247-4ba0-efc6-f1db4f5fb008"
      },
      "execution_count": null,
      "outputs": [
        {
          "output_type": "stream",
          "name": "stdout",
          "text": [
            "Mengakses folder: /content/drive/MyDrive/ocr_ktp/train/0\n",
            "\n",
            "Memproses KTP: /content/drive/MyDrive/ocr_ktp/train/0/IMG-20230726-WA0052_jpg.rf.d5947bfeea9669c5e0de1e48d0d01f86_ktp_0.jpg\n",
            "\n",
            "Memproses KTP: /content/drive/MyDrive/ocr_ktp/train/0/IMG-20230726-WA0052_jpg.rf.b18f09ca41b16a271c288f750e9f0fb3_ktp_0.jpg\n",
            "\n",
            "Memproses KTP: /content/drive/MyDrive/ocr_ktp/train/0/IMG-20230729-WA0024_jpg.rf.b9d531154b08febf0ae03d57fcb4cfde_ktp_0.jpg\n",
            "\n",
            "Memproses KTP: /content/drive/MyDrive/ocr_ktp/train/0/IMG-20230729-WA0013_jpg.rf.91793a02446ad1438bb5ceba23f8115d_ktp_0.jpg\n",
            "\n",
            "Memproses KTP: /content/drive/MyDrive/ocr_ktp/train/0/IMG-20230729-WA0022_jpg.rf.041911ebe01d51405546c15f72c70217_ktp_0.jpg\n",
            "\n",
            "Memproses KTP: /content/drive/MyDrive/ocr_ktp/train/0/IMG-20230729-WA0013_jpg.rf.c50fbbd70fc782c39e9d583c7be5faf8_ktp_0.jpg\n",
            "\n",
            "Memproses KTP: /content/drive/MyDrive/ocr_ktp/train/0/IMG-20230729-WA0013_jpg.rf.0017a64618c047a3d597cbd3b10f6fa0_ktp_0.jpg\n",
            "\n",
            "Memproses KTP: /content/drive/MyDrive/ocr_ktp/train/0/IMG-20230729-WA0014_jpg.rf.170e2b419bf3b078ebb5d1aa7ffc7cdb_ktp_0.jpg\n",
            "\n",
            "Memproses KTP: /content/drive/MyDrive/ocr_ktp/train/0/IMG-20230729-WA0013_jpg.rf.ea5631a41123ec2b0abee4a110604ba4_ktp_0.jpg\n",
            "\n",
            "Memproses KTP: /content/drive/MyDrive/ocr_ktp/train/0/IMG-20230729-WA0014_jpg.rf.8b506c7d4d47adf4c0f8f3327387d537_ktp_0.jpg\n",
            "\n",
            "Memproses KTP: /content/drive/MyDrive/ocr_ktp/train/0/IMG-20230729-WA0014_jpg.rf.51a602f9fe9ed715d29cc09d9d935890_ktp_0.jpg\n",
            "\n",
            "Memproses KTP: /content/drive/MyDrive/ocr_ktp/train/0/IMG-20230729-WA0023_jpg.rf.d1ef34c877ced14a941f84255cd48440_ktp_0.jpg\n",
            "\n",
            "Memproses KTP: /content/drive/MyDrive/ocr_ktp/train/0/IMG-20230729-WA0024_jpg.rf.1afad2c18d4aa9481199eeab614612bc_ktp_0.jpg\n",
            "\n",
            "Memproses KTP: /content/drive/MyDrive/ocr_ktp/train/0/IMG-20230729-WA0023_jpg.rf.98bd30533458d7ef7bfe2ba38a8918d8_ktp_0.jpg\n",
            "\n",
            "Memproses KTP: /content/drive/MyDrive/ocr_ktp/train/0/IMG-20230726-WA0073_jpg.rf.ad3cb7e44886deb37b4c9fd2375f126f_ktp_0.jpg\n",
            "\n",
            "Memproses KTP: /content/drive/MyDrive/ocr_ktp/train/0/IMG-20230729-WA0024_jpg.rf.49711439e89865cfe02fe9eed83d880d_ktp_0.jpg\n",
            "\n",
            "Memproses KTP: /content/drive/MyDrive/ocr_ktp/train/0/IMG-20230726-WA0073_jpg.rf.8c3316c3c765a0637b14c84fd0845e2d_ktp_0.jpg\n",
            "\n",
            "Memproses KTP: /content/drive/MyDrive/ocr_ktp/train/0/IMG-20230729-WA0013_jpg.rf.ea457a5d828008b0fc4bac782f774620_ktp_0.jpg\n",
            "\n",
            "Memproses KTP: /content/drive/MyDrive/ocr_ktp/train/0/IMG-20230726-WA0052_jpg.rf.7d99a825dd409e320649769d172bd9b1_ktp_0.jpg\n",
            "\n",
            "Memproses KTP: /content/drive/MyDrive/ocr_ktp/train/0/IMG-20230729-WA0011_jpg.rf.38ba2573116b193a4f45eba1200357c3_ktp_0.jpg\n",
            "Peringatan: Gagal mendeteksi orientasi dengan Tesseract OSD: (1, 'Tesseract Open Source OCR Engine v4.1.1 with Leptonica Warning: Invalid resolution 0 dpi. Using 70 instead. Estimating resolution as 305 Warning. Invalid resolution 0 dpi. Using 70 instead. Too few characters. Skipping this page Error during processing.'). Mencoba OCR langsung.\n",
            "\n",
            "Memproses KTP: /content/drive/MyDrive/ocr_ktp/train/0/IMG-20230729-WA0014_jpg.rf.c7df1e612131acac30e5dfb413dc0dcd_ktp_0.jpg\n",
            "\n",
            "Memproses KTP: /content/drive/MyDrive/ocr_ktp/train/0/IMG-20230729-WA0022_jpg.rf.09c845e430c80848f98b6f02d35ff649_ktp_0.jpg\n",
            "\n",
            "Memproses KTP: /content/drive/MyDrive/ocr_ktp/train/0/IMG-20230729-WA0023_jpg.rf.13a54dcb2f4ad5cc634cedcf54042391_ktp_0.jpg\n",
            "\n",
            "Memproses KTP: /content/drive/MyDrive/ocr_ktp/train/0/IMG-20230729-WA0022_jpg.rf.fa90ac081fb52984bfe478cd3bde5e78_ktp_0.jpg\n",
            "\n",
            "Memproses KTP: /content/drive/MyDrive/ocr_ktp/train/0/IMG-20230726-WA0073_jpg.rf.5774d87316db2db6631ec57492e45fb1_ktp_0.jpg\n",
            "\n",
            "Memproses KTP: /content/drive/MyDrive/ocr_ktp/train/0/IMG-20230726-WA0073_jpg.rf.49f3e3104046780405784fc75055a545_ktp_0.jpg\n",
            "\n",
            "Memproses KTP: /content/drive/MyDrive/ocr_ktp/train/0/IMG-20230729-WA0015_jpg.rf.369fabb96dc46ae41245425112312e77_ktp_0.jpg\n",
            "Peringatan: Gagal mendeteksi orientasi dengan Tesseract OSD: (1, 'Tesseract Open Source OCR Engine v4.1.1 with Leptonica Warning: Invalid resolution 0 dpi. Using 70 instead. Estimating resolution as 281 Warning. Invalid resolution 0 dpi. Using 70 instead. Too few characters. Skipping this page Error during processing.'). Mencoba OCR langsung.\n",
            "\n",
            "Memproses KTP: /content/drive/MyDrive/ocr_ktp/train/0/IMG-20230726-WA0073_jpg.rf.8de889004d3024bb283e8c094ff50833_ktp_0.jpg\n",
            "\n",
            "Memproses KTP: /content/drive/MyDrive/ocr_ktp/train/0/IMG-20230729-WA0024_jpg.rf.d22fdfb56740cbba561c173c37361e2f_ktp_0.jpg\n",
            "\n",
            "Memproses KTP: /content/drive/MyDrive/ocr_ktp/train/0/IMG-20230726-WA0073_jpg.rf.4b76b619e5c0b7a36406a29443c72700_ktp_0.jpg\n",
            "\n",
            "Memproses KTP: /content/drive/MyDrive/ocr_ktp/train/0/IMG-20230726-WA0073_jpg.rf.034a6d933fc484eec241d3e9d2ede891_ktp_0.jpg\n",
            "\n",
            "Memproses KTP: /content/drive/MyDrive/ocr_ktp/train/0/IMG-20230726-WA0052_jpg.rf.b06cc03948864fa2aefc2e4b2c0f9f3a_ktp_0.jpg\n",
            "Peringatan: Gagal mendeteksi orientasi dengan Tesseract OSD: (1, 'Tesseract Open Source OCR Engine v4.1.1 with Leptonica Warning: Invalid resolution 0 dpi. Using 70 instead. Estimating resolution as 250 Warning. Invalid resolution 0 dpi. Using 70 instead. Too few characters. Skipping this page Error during processing.'). Mencoba OCR langsung.\n",
            "\n",
            "Memproses KTP: /content/drive/MyDrive/ocr_ktp/train/0/IMG-20230729-WA0015_jpg.rf.ea34ed229f744c45bcad01e4b4b2f9fe_ktp_0.jpg\n",
            "Peringatan: Gagal mendeteksi orientasi dengan Tesseract OSD: (1, 'Tesseract Open Source OCR Engine v4.1.1 with Leptonica Warning: Invalid resolution 0 dpi. Using 70 instead. Estimating resolution as 282 Warning. Invalid resolution 0 dpi. Using 70 instead. Too few characters. Skipping this page Error during processing.'). Mencoba OCR langsung.\n",
            "\n",
            "Memproses KTP: /content/drive/MyDrive/ocr_ktp/train/0/IMG-20230726-WA0052_jpg.rf.7d54d0e1e1eef7d8cd76f7a6f91b5daf_ktp_0.jpg\n",
            "\n",
            "Memproses KTP: /content/drive/MyDrive/ocr_ktp/train/0/IMG-20230803-WA0011_jpg.rf.3205adf37dcfcc6035c7409b060e9512_ktp_0.jpg\n",
            "\n",
            "Memproses KTP: /content/drive/MyDrive/ocr_ktp/train/0/IMG-20230803-WA0011_jpg.rf.c9e69d8bc4c71070bbc933284d807cc3_ktp_0.jpg\n",
            "\n",
            "Memproses KTP: /content/drive/MyDrive/ocr_ktp/train/0/IMG-20230803-WA0006_jpg.rf.1fe972899f4345abd70a39367156ca50_ktp_0.jpg\n",
            "\n",
            "Memproses KTP: /content/drive/MyDrive/ocr_ktp/train/0/IMG-20230803-WA0007_jpg.rf.842ef69720047ee9ad7b2790533184b7_ktp_0.jpg\n",
            "\n",
            "Memproses KTP: /content/drive/MyDrive/ocr_ktp/train/0/IMG-20230803-WA0007_jpg.rf.fbef473f796c9c3e3577725b627c6bd2_ktp_0.jpg\n",
            "\n",
            "Memproses KTP: /content/drive/MyDrive/ocr_ktp/train/0/IMG-20230731-WA0034_jpg.rf.ae2946939f1677d4f3ad9125107ce804_ktp_0.jpg\n",
            "\n",
            "Memproses KTP: /content/drive/MyDrive/ocr_ktp/train/0/IMG-20230803-WA0033_jpg.rf.f96e5372d6f4e4d9b182f2eedcf5deb4_ktp_0.jpg\n",
            "\n",
            "Memproses KTP: /content/drive/MyDrive/ocr_ktp/train/0/IMG-20230802-WA0002_jpg.rf.30164d44257e38b4b6f02c27c7d8c468_ktp_0.jpg\n",
            "\n",
            "Memproses KTP: /content/drive/MyDrive/ocr_ktp/train/0/IMG-20230730-WA0009_jpg.rf.23f2cc5fe5083ddcc6d0e8533c4e01c2_ktp_0.jpg\n",
            "\n",
            "Memproses KTP: /content/drive/MyDrive/ocr_ktp/train/0/IMG-20230803-WA0011_jpg.rf.54b919dbca4bbfc0482fd3ca9d813469_ktp_0.jpg\n",
            "\n",
            "Memproses KTP: /content/drive/MyDrive/ocr_ktp/train/0/IMG-20230730-WA0009_jpg.rf.dae13bc2307ff560ff702ae6cb1a8541_ktp_0.jpg\n",
            "\n",
            "Memproses KTP: /content/drive/MyDrive/ocr_ktp/train/0/IMG-20230801-WA0063_jpg.rf.533311807810404f065125f7169099f9_ktp_0.jpg\n",
            "\n",
            "Memproses KTP: /content/drive/MyDrive/ocr_ktp/train/0/IMG-20230803-WA0010_jpg.rf.5886a00d3126cec43a48bc1be0428ad9_ktp_0.jpg\n",
            "\n",
            "Memproses KTP: /content/drive/MyDrive/ocr_ktp/train/0/IMG-20230730-WA0009_jpg.rf.e338b2172e939371bf1c8e3a0453606b_ktp_0.jpg\n",
            "\n",
            "Memproses KTP: /content/drive/MyDrive/ocr_ktp/train/0/IMG-20230803-WA0008_jpg.rf.02a487ea8f02d765066f27878c60504c_ktp_0.jpg\n",
            "\n",
            "Memproses KTP: /content/drive/MyDrive/ocr_ktp/train/0/IMG-20230803-WA0011_jpg.rf.bc1a188120a985fb50947d0bbc03d744_ktp_0.jpg\n",
            "\n",
            "Memproses KTP: /content/drive/MyDrive/ocr_ktp/train/0/IMG-20230730-WA0009_jpg.rf.b89c5c3aaa46f0d482896a2bc7a8d86c_ktp_0.jpg\n",
            "\n",
            "Memproses KTP: /content/drive/MyDrive/ocr_ktp/train/0/IMG-20230729-WA0024_jpg.rf.da2c650af78a126da928c906abff9a4c_ktp_0.jpg\n",
            "\n",
            "Memproses KTP: /content/drive/MyDrive/ocr_ktp/train/0/IMG-20230803-WA0011_jpg.rf.950ab45037f55186852bc223afdd6ec4_ktp_0.jpg\n",
            "\n",
            "Memproses KTP: /content/drive/MyDrive/ocr_ktp/train/0/IMG-20230801-WA0053_jpg.rf.68531b053f12b18586ba02d8dc66322b_ktp_0.jpg\n",
            "\n",
            "Memproses KTP: /content/drive/MyDrive/ocr_ktp/train/0/IMG-20230803-WA0010_jpg.rf.778b69318bee44152e2dd4503466cd91_ktp_0.jpg\n",
            "\n",
            "Memproses KTP: /content/drive/MyDrive/ocr_ktp/train/0/IMG-20230730-WA0009_jpg.rf.30069897cc11dfef17706e45198e0ca8_ktp_0.jpg\n",
            "\n",
            "Memproses KTP: /content/drive/MyDrive/ocr_ktp/train/0/IMG-20230803-WA0006_jpg.rf.f4e28c09d182a49b402200fa0646ddac_ktp_0.jpg\n",
            "\n",
            "Memproses KTP: /content/drive/MyDrive/ocr_ktp/train/0/IMG-20230803-WA0033_jpg.rf.46813c1d0c3c10b160c4236f863456c9_ktp_0.jpg\n",
            "\n",
            "Memproses KTP: /content/drive/MyDrive/ocr_ktp/train/0/IMG-20230806-WA0074_jpg.rf.3e055e7a955929ed50e1af68d3f0eb10_ktp_0.jpg\n",
            "Peringatan: Gagal mendeteksi orientasi dengan Tesseract OSD: (1, 'Tesseract Open Source OCR Engine v4.1.1 with Leptonica Warning: Invalid resolution 0 dpi. Using 70 instead. Estimating resolution as 224 Warning. Invalid resolution 0 dpi. Using 70 instead. Too few characters. Skipping this page Error during processing.'). Mencoba OCR langsung.\n",
            "\n",
            "Memproses KTP: /content/drive/MyDrive/ocr_ktp/train/0/IMG-20230730-WA0009_jpg.rf.263e56ac85494b8f8c34bb6132aedb2e_ktp_0.jpg\n",
            "\n",
            "Memproses KTP: /content/drive/MyDrive/ocr_ktp/train/0/IMG-20230729-WA0024_jpg.rf.d401bdcd7710be16b1238004ec35f17d_ktp_0.jpg\n",
            "\n",
            "Memproses KTP: /content/drive/MyDrive/ocr_ktp/train/0/IMG-20230803-WA0006_jpg.rf.6f3fe2f0f9f2810d0476d3f650fd511a_ktp_0.jpg\n",
            "\n",
            "Memproses KTP: /content/drive/MyDrive/ocr_ktp/train/0/IMG-20230803-WA0008_jpg.rf.c4063d1c6479787c0f67701f278ff6a3_ktp_0.jpg\n",
            "\n",
            "Memproses KTP: /content/drive/MyDrive/ocr_ktp/train/0/IMG-20230730-WA0009_jpg.rf.020da0311bc14df0efc2251c74d466ca_ktp_0.jpg\n",
            "\n",
            "Memproses KTP: /content/drive/MyDrive/ocr_ktp/train/0/IMG-20230803-WA0011_jpg.rf.e2cfbbba74fe5002fb8bbe7c3978691b_ktp_0.jpg\n",
            "\n",
            "Memproses KTP: /content/drive/MyDrive/ocr_ktp/train/0/IMG-20230803-WA0006_jpg.rf.2c5d32e301b38dd3036841b0bb4b88e3_ktp_0.jpg\n",
            "\n",
            "Memproses KTP: /content/drive/MyDrive/ocr_ktp/train/0/IMG-20230803-WA0011_jpg.rf.50e50d3b76b50d69e6eb9d655432e66f_ktp_0.jpg\n",
            "\n",
            "Memproses KTP: /content/drive/MyDrive/ocr_ktp/train/0/IMG-20230803-WA0007_jpg.rf.d2313d71613fab7fbd7e0fa0748b230e_ktp_0.jpg\n",
            "\n",
            "Memproses KTP: /content/drive/MyDrive/ocr_ktp/train/0/IMG-20230803-WA0007_jpg.rf.f04394b00e8b97dac1705838d1240545_ktp_0.jpg\n",
            "\n",
            "Memproses KTP: /content/drive/MyDrive/ocr_ktp/train/0/IMG-20230803-WA0011_jpg.rf.13ea1093b3f95b93f297af41d54850f7_ktp_0.jpg\n",
            "\n",
            "Memproses KTP: /content/drive/MyDrive/ocr_ktp/train/0/IMG-20230730-WA0009_jpg.rf.3af08fb01791121b680bb43e924fdc01_ktp_0.jpg\n",
            "\n",
            "Memproses KTP: /content/drive/MyDrive/ocr_ktp/train/0/IMG-20230803-WA0011_jpg.rf.adebcb3ac0f54a2fe67504e833985201_ktp_0.jpg\n",
            "Peringatan: Gagal mendeteksi orientasi dengan Tesseract OSD: (1, 'Tesseract Open Source OCR Engine v4.1.1 with Leptonica Warning: Invalid resolution 0 dpi. Using 70 instead. Estimating resolution as 317 Warning. Invalid resolution 0 dpi. Using 70 instead. Too few characters. Skipping this page Error during processing.'). Mencoba OCR langsung.\n",
            "\n",
            "Memproses KTP: /content/drive/MyDrive/ocr_ktp/train/0/IMG-20230803-WA0007_jpg.rf.3c8c35c432f84722e82cd2e894bf8c9d_ktp_0.jpg\n",
            "\n",
            "Memproses KTP: /content/drive/MyDrive/ocr_ktp/train/0/IMG-20230802-WA0002_jpg.rf.d28cd290e88dda6ac88b5cbf246d6175_ktp_0.jpg\n",
            "\n",
            "Memproses KTP: /content/drive/MyDrive/ocr_ktp/train/0/IMG-20230803-WA0006_jpg.rf.6c24727cb8d319ce4f0e76305dea8482_ktp_0.jpg\n"
          ]
        }
      ]
    }
  ]
}